{
  "nbformat": 4,
  "nbformat_minor": 0,
  "metadata": {
    "colab": {
      "provenance": [],
      "gpuType": "T4"
    },
    "kernelspec": {
      "name": "python3",
      "display_name": "Python 3"
    },
    "language_info": {
      "name": "python"
    },
    "accelerator": "GPU"
  },
  "cells": [
    {
      "cell_type": "code",
      "execution_count": 1,
      "metadata": {
        "id": "m7ykK-u44mZI",
        "colab": {
          "base_uri": "https://localhost:8080/"
        },
        "outputId": "f0676c3c-ea66-45d7-940f-d2d6d17cd50a"
      },
      "outputs": [
        {
          "output_type": "stream",
          "name": "stdout",
          "text": [
            "Collecting accelerate\n",
            "  Downloading accelerate-0.30.1-py3-none-any.whl (302 kB)\n",
            "\u001b[2K     \u001b[90m━━━━━━━━━━━━━━━━━━━━━━━━━━━━━━━━━━━━━━━━\u001b[0m \u001b[32m302.6/302.6 kB\u001b[0m \u001b[31m6.6 MB/s\u001b[0m eta \u001b[36m0:00:00\u001b[0m\n",
            "\u001b[?25hRequirement already satisfied: numpy>=1.17 in /usr/local/lib/python3.10/dist-packages (from accelerate) (1.25.2)\n",
            "Requirement already satisfied: packaging>=20.0 in /usr/local/lib/python3.10/dist-packages (from accelerate) (24.0)\n",
            "Requirement already satisfied: psutil in /usr/local/lib/python3.10/dist-packages (from accelerate) (5.9.5)\n",
            "Requirement already satisfied: pyyaml in /usr/local/lib/python3.10/dist-packages (from accelerate) (6.0.1)\n",
            "Requirement already satisfied: torch>=1.10.0 in /usr/local/lib/python3.10/dist-packages (from accelerate) (2.2.1+cu121)\n",
            "Requirement already satisfied: huggingface-hub in /usr/local/lib/python3.10/dist-packages (from accelerate) (0.20.3)\n",
            "Requirement already satisfied: safetensors>=0.3.1 in /usr/local/lib/python3.10/dist-packages (from accelerate) (0.4.3)\n",
            "Requirement already satisfied: filelock in /usr/local/lib/python3.10/dist-packages (from torch>=1.10.0->accelerate) (3.14.0)\n",
            "Requirement already satisfied: typing-extensions>=4.8.0 in /usr/local/lib/python3.10/dist-packages (from torch>=1.10.0->accelerate) (4.11.0)\n",
            "Requirement already satisfied: sympy in /usr/local/lib/python3.10/dist-packages (from torch>=1.10.0->accelerate) (1.12)\n",
            "Requirement already satisfied: networkx in /usr/local/lib/python3.10/dist-packages (from torch>=1.10.0->accelerate) (3.3)\n",
            "Requirement already satisfied: jinja2 in /usr/local/lib/python3.10/dist-packages (from torch>=1.10.0->accelerate) (3.1.4)\n",
            "Requirement already satisfied: fsspec in /usr/local/lib/python3.10/dist-packages (from torch>=1.10.0->accelerate) (2023.6.0)\n",
            "Collecting nvidia-cuda-nvrtc-cu12==12.1.105 (from torch>=1.10.0->accelerate)\n",
            "  Using cached nvidia_cuda_nvrtc_cu12-12.1.105-py3-none-manylinux1_x86_64.whl (23.7 MB)\n",
            "Collecting nvidia-cuda-runtime-cu12==12.1.105 (from torch>=1.10.0->accelerate)\n",
            "  Using cached nvidia_cuda_runtime_cu12-12.1.105-py3-none-manylinux1_x86_64.whl (823 kB)\n",
            "Collecting nvidia-cuda-cupti-cu12==12.1.105 (from torch>=1.10.0->accelerate)\n",
            "  Using cached nvidia_cuda_cupti_cu12-12.1.105-py3-none-manylinux1_x86_64.whl (14.1 MB)\n",
            "Collecting nvidia-cudnn-cu12==8.9.2.26 (from torch>=1.10.0->accelerate)\n",
            "  Using cached nvidia_cudnn_cu12-8.9.2.26-py3-none-manylinux1_x86_64.whl (731.7 MB)\n",
            "Collecting nvidia-cublas-cu12==12.1.3.1 (from torch>=1.10.0->accelerate)\n",
            "  Using cached nvidia_cublas_cu12-12.1.3.1-py3-none-manylinux1_x86_64.whl (410.6 MB)\n",
            "Collecting nvidia-cufft-cu12==11.0.2.54 (from torch>=1.10.0->accelerate)\n",
            "  Using cached nvidia_cufft_cu12-11.0.2.54-py3-none-manylinux1_x86_64.whl (121.6 MB)\n",
            "Collecting nvidia-curand-cu12==10.3.2.106 (from torch>=1.10.0->accelerate)\n",
            "  Using cached nvidia_curand_cu12-10.3.2.106-py3-none-manylinux1_x86_64.whl (56.5 MB)\n",
            "Collecting nvidia-cusolver-cu12==11.4.5.107 (from torch>=1.10.0->accelerate)\n",
            "  Using cached nvidia_cusolver_cu12-11.4.5.107-py3-none-manylinux1_x86_64.whl (124.2 MB)\n",
            "Collecting nvidia-cusparse-cu12==12.1.0.106 (from torch>=1.10.0->accelerate)\n",
            "  Using cached nvidia_cusparse_cu12-12.1.0.106-py3-none-manylinux1_x86_64.whl (196.0 MB)\n",
            "Collecting nvidia-nccl-cu12==2.19.3 (from torch>=1.10.0->accelerate)\n",
            "  Using cached nvidia_nccl_cu12-2.19.3-py3-none-manylinux1_x86_64.whl (166.0 MB)\n",
            "Collecting nvidia-nvtx-cu12==12.1.105 (from torch>=1.10.0->accelerate)\n",
            "  Using cached nvidia_nvtx_cu12-12.1.105-py3-none-manylinux1_x86_64.whl (99 kB)\n",
            "Requirement already satisfied: triton==2.2.0 in /usr/local/lib/python3.10/dist-packages (from torch>=1.10.0->accelerate) (2.2.0)\n",
            "Collecting nvidia-nvjitlink-cu12 (from nvidia-cusolver-cu12==11.4.5.107->torch>=1.10.0->accelerate)\n",
            "  Using cached nvidia_nvjitlink_cu12-12.4.127-py3-none-manylinux2014_x86_64.whl (21.1 MB)\n",
            "Requirement already satisfied: requests in /usr/local/lib/python3.10/dist-packages (from huggingface-hub->accelerate) (2.31.0)\n",
            "Requirement already satisfied: tqdm>=4.42.1 in /usr/local/lib/python3.10/dist-packages (from huggingface-hub->accelerate) (4.66.4)\n",
            "Requirement already satisfied: MarkupSafe>=2.0 in /usr/local/lib/python3.10/dist-packages (from jinja2->torch>=1.10.0->accelerate) (2.1.5)\n",
            "Requirement already satisfied: charset-normalizer<4,>=2 in /usr/local/lib/python3.10/dist-packages (from requests->huggingface-hub->accelerate) (3.3.2)\n",
            "Requirement already satisfied: idna<4,>=2.5 in /usr/local/lib/python3.10/dist-packages (from requests->huggingface-hub->accelerate) (3.7)\n",
            "Requirement already satisfied: urllib3<3,>=1.21.1 in /usr/local/lib/python3.10/dist-packages (from requests->huggingface-hub->accelerate) (2.0.7)\n",
            "Requirement already satisfied: certifi>=2017.4.17 in /usr/local/lib/python3.10/dist-packages (from requests->huggingface-hub->accelerate) (2024.2.2)\n",
            "Requirement already satisfied: mpmath>=0.19 in /usr/local/lib/python3.10/dist-packages (from sympy->torch>=1.10.0->accelerate) (1.3.0)\n",
            "Installing collected packages: nvidia-nvtx-cu12, nvidia-nvjitlink-cu12, nvidia-nccl-cu12, nvidia-curand-cu12, nvidia-cufft-cu12, nvidia-cuda-runtime-cu12, nvidia-cuda-nvrtc-cu12, nvidia-cuda-cupti-cu12, nvidia-cublas-cu12, nvidia-cusparse-cu12, nvidia-cudnn-cu12, nvidia-cusolver-cu12, accelerate\n",
            "Successfully installed accelerate-0.30.1 nvidia-cublas-cu12-12.1.3.1 nvidia-cuda-cupti-cu12-12.1.105 nvidia-cuda-nvrtc-cu12-12.1.105 nvidia-cuda-runtime-cu12-12.1.105 nvidia-cudnn-cu12-8.9.2.26 nvidia-cufft-cu12-11.0.2.54 nvidia-curand-cu12-10.3.2.106 nvidia-cusolver-cu12-11.4.5.107 nvidia-cusparse-cu12-12.1.0.106 nvidia-nccl-cu12-2.19.3 nvidia-nvjitlink-cu12-12.4.127 nvidia-nvtx-cu12-12.1.105\n",
            "Collecting ftfy\n",
            "  Downloading ftfy-6.2.0-py3-none-any.whl (54 kB)\n",
            "\u001b[2K     \u001b[90m━━━━━━━━━━━━━━━━━━━━━━━━━━━━━━━━━━━━━━━━\u001b[0m \u001b[32m54.4/54.4 kB\u001b[0m \u001b[31m2.6 MB/s\u001b[0m eta \u001b[36m0:00:00\u001b[0m\n",
            "\u001b[?25hRequirement already satisfied: regex in /usr/local/lib/python3.10/dist-packages (2023.12.25)\n",
            "Requirement already satisfied: tqdm in /usr/local/lib/python3.10/dist-packages (4.66.4)\n",
            "Requirement already satisfied: wcwidth<0.3.0,>=0.2.12 in /usr/local/lib/python3.10/dist-packages (from ftfy) (0.2.13)\n",
            "Installing collected packages: ftfy\n",
            "Successfully installed ftfy-6.2.0\n",
            "Collecting git+https://github.com/openai/CLIP.git\n",
            "  Cloning https://github.com/openai/CLIP.git to /tmp/pip-req-build-371o6fym\n",
            "  Running command git clone --filter=blob:none --quiet https://github.com/openai/CLIP.git /tmp/pip-req-build-371o6fym\n",
            "  Resolved https://github.com/openai/CLIP.git to commit a1d071733d7111c9c014f024669f959182114e33\n",
            "  Preparing metadata (setup.py) ... \u001b[?25l\u001b[?25hdone\n",
            "Requirement already satisfied: ftfy in /usr/local/lib/python3.10/dist-packages (from clip==1.0) (6.2.0)\n",
            "Requirement already satisfied: regex in /usr/local/lib/python3.10/dist-packages (from clip==1.0) (2023.12.25)\n",
            "Requirement already satisfied: tqdm in /usr/local/lib/python3.10/dist-packages (from clip==1.0) (4.66.4)\n",
            "Requirement already satisfied: torch in /usr/local/lib/python3.10/dist-packages (from clip==1.0) (2.2.1+cu121)\n",
            "Requirement already satisfied: torchvision in /usr/local/lib/python3.10/dist-packages (from clip==1.0) (0.17.1+cu121)\n",
            "Requirement already satisfied: wcwidth<0.3.0,>=0.2.12 in /usr/local/lib/python3.10/dist-packages (from ftfy->clip==1.0) (0.2.13)\n",
            "Requirement already satisfied: filelock in /usr/local/lib/python3.10/dist-packages (from torch->clip==1.0) (3.14.0)\n",
            "Requirement already satisfied: typing-extensions>=4.8.0 in /usr/local/lib/python3.10/dist-packages (from torch->clip==1.0) (4.11.0)\n",
            "Requirement already satisfied: sympy in /usr/local/lib/python3.10/dist-packages (from torch->clip==1.0) (1.12)\n",
            "Requirement already satisfied: networkx in /usr/local/lib/python3.10/dist-packages (from torch->clip==1.0) (3.3)\n",
            "Requirement already satisfied: jinja2 in /usr/local/lib/python3.10/dist-packages (from torch->clip==1.0) (3.1.4)\n",
            "Requirement already satisfied: fsspec in /usr/local/lib/python3.10/dist-packages (from torch->clip==1.0) (2023.6.0)\n",
            "Requirement already satisfied: nvidia-cuda-nvrtc-cu12==12.1.105 in /usr/local/lib/python3.10/dist-packages (from torch->clip==1.0) (12.1.105)\n",
            "Requirement already satisfied: nvidia-cuda-runtime-cu12==12.1.105 in /usr/local/lib/python3.10/dist-packages (from torch->clip==1.0) (12.1.105)\n",
            "Requirement already satisfied: nvidia-cuda-cupti-cu12==12.1.105 in /usr/local/lib/python3.10/dist-packages (from torch->clip==1.0) (12.1.105)\n",
            "Requirement already satisfied: nvidia-cudnn-cu12==8.9.2.26 in /usr/local/lib/python3.10/dist-packages (from torch->clip==1.0) (8.9.2.26)\n",
            "Requirement already satisfied: nvidia-cublas-cu12==12.1.3.1 in /usr/local/lib/python3.10/dist-packages (from torch->clip==1.0) (12.1.3.1)\n",
            "Requirement already satisfied: nvidia-cufft-cu12==11.0.2.54 in /usr/local/lib/python3.10/dist-packages (from torch->clip==1.0) (11.0.2.54)\n",
            "Requirement already satisfied: nvidia-curand-cu12==10.3.2.106 in /usr/local/lib/python3.10/dist-packages (from torch->clip==1.0) (10.3.2.106)\n",
            "Requirement already satisfied: nvidia-cusolver-cu12==11.4.5.107 in /usr/local/lib/python3.10/dist-packages (from torch->clip==1.0) (11.4.5.107)\n",
            "Requirement already satisfied: nvidia-cusparse-cu12==12.1.0.106 in /usr/local/lib/python3.10/dist-packages (from torch->clip==1.0) (12.1.0.106)\n",
            "Requirement already satisfied: nvidia-nccl-cu12==2.19.3 in /usr/local/lib/python3.10/dist-packages (from torch->clip==1.0) (2.19.3)\n",
            "Requirement already satisfied: nvidia-nvtx-cu12==12.1.105 in /usr/local/lib/python3.10/dist-packages (from torch->clip==1.0) (12.1.105)\n",
            "Requirement already satisfied: triton==2.2.0 in /usr/local/lib/python3.10/dist-packages (from torch->clip==1.0) (2.2.0)\n",
            "Requirement already satisfied: nvidia-nvjitlink-cu12 in /usr/local/lib/python3.10/dist-packages (from nvidia-cusolver-cu12==11.4.5.107->torch->clip==1.0) (12.4.127)\n",
            "Requirement already satisfied: numpy in /usr/local/lib/python3.10/dist-packages (from torchvision->clip==1.0) (1.25.2)\n",
            "Requirement already satisfied: pillow!=8.3.*,>=5.3.0 in /usr/local/lib/python3.10/dist-packages (from torchvision->clip==1.0) (9.4.0)\n",
            "Requirement already satisfied: MarkupSafe>=2.0 in /usr/local/lib/python3.10/dist-packages (from jinja2->torch->clip==1.0) (2.1.5)\n",
            "Requirement already satisfied: mpmath>=0.19 in /usr/local/lib/python3.10/dist-packages (from sympy->torch->clip==1.0) (1.3.0)\n",
            "Building wheels for collected packages: clip\n",
            "  Building wheel for clip (setup.py) ... \u001b[?25l\u001b[?25hdone\n",
            "  Created wheel for clip: filename=clip-1.0-py3-none-any.whl size=1369499 sha256=86172e2befef51869d1cbfafd862b1d6a7f10abc977a14ad7b0bcdbd65e3c026\n",
            "  Stored in directory: /tmp/pip-ephem-wheel-cache-d506i97j/wheels/da/2b/4c/d6691fa9597aac8bb85d2ac13b112deb897d5b50f5ad9a37e4\n",
            "Successfully built clip\n",
            "Installing collected packages: clip\n",
            "Successfully installed clip-1.0\n"
          ]
        }
      ],
      "source": [
        "!pip install accelerate\n",
        "! pip install ftfy regex tqdm\n",
        "! pip install git+https://github.com/openai/CLIP.git"
      ]
    },
    {
      "cell_type": "code",
      "source": [
        "import numpy as np\n",
        "import torch\n",
        "from pkg_resources import packaging\n",
        "\n",
        "print(\"Torch version:\", torch.__version__)\n"
      ],
      "metadata": {
        "id": "WFM9FTN64yfS",
        "colab": {
          "base_uri": "https://localhost:8080/"
        },
        "outputId": "6907a8d8-9f2b-48b9-f8af-42da7f550047"
      },
      "execution_count": 2,
      "outputs": [
        {
          "output_type": "stream",
          "name": "stdout",
          "text": [
            "Torch version: 2.2.1+cu121\n"
          ]
        }
      ]
    },
    {
      "cell_type": "code",
      "source": [
        "import numpy as np\n",
        "import torch\n",
        "from pkg_resources import packaging\n",
        "import clip\n",
        "import cv2\n",
        "from PIL import Image\n",
        "import os\n",
        "import json\n",
        "import pickle"
      ],
      "metadata": {
        "id": "aYI0N3N25GJg"
      },
      "execution_count": 3,
      "outputs": []
    },
    {
      "cell_type": "code",
      "source": [
        "clip.available_models()\n",
        "print(\"Torch version:\", torch.__version__)\n",
        "clip.available_models()\n",
        "clip.tokenize('hello')"
      ],
      "metadata": {
        "id": "gSmJQitq5bOo",
        "colab": {
          "base_uri": "https://localhost:8080/"
        },
        "outputId": "379c1df0-306b-4c86-fc72-ce0cc72459c4"
      },
      "execution_count": 4,
      "outputs": [
        {
          "output_type": "stream",
          "name": "stdout",
          "text": [
            "Torch version: 2.2.1+cu121\n"
          ]
        },
        {
          "output_type": "execute_result",
          "data": {
            "text/plain": [
              "tensor([[49406,  3306, 49407,     0,     0,     0,     0,     0,     0,     0,\n",
              "             0,     0,     0,     0,     0,     0,     0,     0,     0,     0,\n",
              "             0,     0,     0,     0,     0,     0,     0,     0,     0,     0,\n",
              "             0,     0,     0,     0,     0,     0,     0,     0,     0,     0,\n",
              "             0,     0,     0,     0,     0,     0,     0,     0,     0,     0,\n",
              "             0,     0,     0,     0,     0,     0,     0,     0,     0,     0,\n",
              "             0,     0,     0,     0,     0,     0,     0,     0,     0,     0,\n",
              "             0,     0,     0,     0,     0,     0,     0]], dtype=torch.int32)"
            ]
          },
          "metadata": {},
          "execution_count": 4
        }
      ]
    },
    {
      "cell_type": "code",
      "source": [
        "class RelevanceEvaluator:\n",
        "    def __init__(self, checkpoint=\"ViT-B/32\"):\n",
        "        self.device = torch.device(\"cuda\" if torch.cuda.is_available() else \"cpu\")\n",
        "        self.model, self.preprocess = clip.load(checkpoint, device=self.device)\n",
        "\n",
        "\n",
        "    def extract_image_features(self, image_path):\n",
        "        if isinstance(image_path, np.ndarray):\n",
        "            image = image_path\n",
        "        else:\n",
        "            image = cv2.imread(image_path)\n",
        "        image = cv2.cvtColor(image, cv2.COLOR_BGR2RGB)\n",
        "        image = Image.fromarray(image)\n",
        "        image = self.preprocess(image).unsqueeze(0).to(self.device)\n",
        "        with torch.no_grad():\n",
        "            image_features = self.model.encode_image(image).float()\n",
        "        return image_features\n",
        "\n",
        "    def extract_text_features(self, texts):\n",
        "        if isinstance(texts, str):\n",
        "            texts = [texts]\n",
        "        elif isinstance(texts, np.ndarray):\n",
        "            texts = texts.tolist()\n",
        "        elif isinstance(texts, list):\n",
        "            texts = [str(text) for text in texts]\n",
        "\n",
        "        text_tokens = clip.tokenize(texts).to(self.device)\n",
        "        with torch.no_grad():\n",
        "            text_features = self.model.encode_text(text_tokens).float()\n",
        "        return text_features\n",
        "\n",
        "    def measure_similarity(self, image_path, text):\n",
        "        text_features = self.extract_text_features(text)\n",
        "        image_features = self.extract_image_features(image_path)\n",
        "        image_features /= image_features.norm(dim=-1, keepdim=True)\n",
        "        text_features /= text_features.norm(dim=-1, keepdim=True)\n",
        "        similarity = (text_features @ image_features.T).cpu().numpy()\n",
        "        return similarity"
      ],
      "metadata": {
        "id": "mqQHcoow5NIw"
      },
      "execution_count": 5,
      "outputs": []
    },
    {
      "cell_type": "markdown",
      "source": [
        "# Main ReCap"
      ],
      "metadata": {
        "id": "AWyoA7TT5ndn"
      }
    },
    {
      "cell_type": "code",
      "source": [
        "class ReCap:\n",
        "    def __init__(self, image, caption, clip_checkpoint=\"ViT-B/32\", generic=False):\n",
        "        self.ClipModel = RelevanceEvaluator(clip_checkpoint)\n",
        "        self.object_reference = ['human', 'animal', 'machine', 'insect', 'tree', 'building', 'plant', 'food', 'tool', 'house']\n",
        "        self.feature_reference = ['red', 'orange', 'yellow', 'green', 'blue', 'indigo', 'violet', 'white', 'black', 'purple']\n",
        "        self.object_reference_clip_score = dict()\n",
        "        self.feature_reference_clip_score = dict()\n",
        "        self.T_hat = None\n",
        "        self.image = image\n",
        "        self.caption = caption\n",
        "        self.candidate_segments = None\n",
        "        self.candidate_tokens = None\n",
        "        self.candidate_clip_score = dict()\n",
        "        self.target_tokens = dict()\n",
        "        self.generic = generic\n",
        "\n",
        "    def run(self):\n",
        "        self.filteration()\n",
        "        if not (self.candidate_segments and self.candidate_tokens):# and self.T_hat):\n",
        "            print(\"Assign candidate lists!\")\n",
        "            return\n",
        "        self.relevance_evaluation()\n",
        "        self.substitution()\n",
        "\n",
        "    def filteration(self):\n",
        "        self.text_filteration()\n",
        "        self.image_filteration()\n",
        "\n",
        "    def text_filteration(self):\n",
        "        # it returns a list of triplets\n",
        "        # T_c = {'token_1':{t_1, l_1, g_1},.... }\n",
        "        print(\"Assign candidate_tokens in form of T_c = {'token_0':{t_0, l_0, g_0},.... }\")\n",
        "\n",
        "    def image_filteration(self):\n",
        "        # it returns a list of duals\n",
        "        # I_c = {'segment_1':{i_1, l_1},.... }\n",
        "        print(\"Assign candidate_segments in form of I_c = {'segment_0':{i_0, l_0},.... }\")\n",
        "\n",
        "    def relevance_evaluation(self):\n",
        "        self.calculate_candidate_clip_score()\n",
        "        self.calculate_reference_clip_score()\n",
        "        self.generate_target_tokens()\n",
        "\n",
        "    def calculate_reference_clip_score(self):\n",
        "        for i_id in range(len(self.candidate_segments)):\n",
        "            i_k = self.candidate_segments[f\"segment_{i_id}\"]\n",
        "            segment, i_label = i_k\n",
        "            for obj_id in range(len(self.object_reference)):\n",
        "                obj_ref = self.object_reference[obj_id]\n",
        "                clip_score = self.ClipModel.measure_similarity(segment, obj_ref)\n",
        "                self.object_reference_clip_score[f\"segment_{i_id}_obj_{obj_id}\"] = clip_score\n",
        "            for f_id in range(len(self.feature_reference)):\n",
        "                f_ref = self.feature_reference[f_id]\n",
        "                clip_score = self.ClipModel.measure_similarity(segment, f_ref)\n",
        "                self.feature_reference_clip_score[f\"segment_{i_id}_f_{f_id}\"] = clip_score\n",
        "\n",
        "    def calculate_candidate_clip_score(self):\n",
        "        for i_id in range(len(self.candidate_segments)):\n",
        "            i_k = self.candidate_segments[f\"segment_{i_id}\"]\n",
        "            segment, i_label = i_k\n",
        "            for t_id in range(len(self.candidate_tokens)):\n",
        "                t_k = self.candidate_tokens[f\"token_{t_id}\"]\n",
        "                token, t_label, g_label = t_k\n",
        "\n",
        "                if i_label == t_label:\n",
        "                    clip_score = self.ClipModel.measure_similarity(segment, token)\n",
        "                    self.candidate_clip_score[f\"segment_{i_id}_token_{t_id}\"] = clip_score\n",
        "\n",
        "\n",
        "\n",
        "    def generate_target_tokens(self):\n",
        "        for c_id, c_score in self.candidate_clip_score.items():\n",
        "            c_id_split = c_id.split(\"_\")    # \"segment_{i_k}_token_{t_k}\" -> segment, i_k, token, t_k\n",
        "            i_id, t_id = c_id_split[1],  c_id_split[3]\n",
        "            g_k = self.candidate_tokens[f\"token_{t_id}\"][-1] # either f or obj\n",
        "            if g_k == \"f\":\n",
        "                reference_clip_score = self.feature_reference_clip_score.copy()\n",
        "            elif g_k == \"obj\":\n",
        "                reference_clip_score = self.object_reference_clip_score.copy()\n",
        "            ref_thr, ref_id = 0, None\n",
        "            for item_ref_id, ref_score in reference_clip_score.items():\n",
        "                if f\"segment_{i_id}\" in item_ref_id:\n",
        "                    thr = ref_score\n",
        "                    if thr > ref_thr:\n",
        "                        ref_thr = thr\n",
        "                        ref_id = item_ref_id\n",
        "            if ref_thr > c_score:\n",
        "                self.target_tokens[f\"token_{t_id}\"] = [ref_id, ref_thr]\n",
        "\n",
        "    def substitution(self):\n",
        "        print('========================= SUBSTITUTION START ========================= ')\n",
        "        self.T_hat = self.caption\n",
        "        print(f'{self.T_hat=}')\n",
        "        for target_token, ref in self.target_tokens.items():\n",
        "            print(f'{target_token=} {ref=}')\n",
        "            segment_info = ref[0]\n",
        "            splitted = segment_info.split('_')\n",
        "            segment_idx = splitted[1]\n",
        "\n",
        "            token = self.candidate_tokens[target_token][0]\n",
        "            g = self.candidate_tokens[target_token][2]\n",
        "            if g == \"f\":\n",
        "                reference_list = self.feature_reference.copy()\n",
        "                feature_idx = int(splitted[3])\n",
        "                substitute = reference_list[feature_idx]\n",
        "            elif g == \"obj\":\n",
        "                reference_list = self.object_reference.copy()\n",
        "                object_idx = int(splitted[3])\n",
        "                substitute = reference_list[object_idx]\n",
        "\n",
        "            print(substitute)\n",
        "            if self.generic:\n",
        "                substitute = \"unknown\"\n",
        "            self.T_hat = self.T_hat.replace(token, substitute)\n",
        "            print(f'{self.T_hat=}')\n",
        "        print('========================= SUBSTITUTION END =========================')"
      ],
      "metadata": {
        "id": "uHLyGvsz5qlC"
      },
      "execution_count": 6,
      "outputs": []
    },
    {
      "cell_type": "code",
      "source": [
        "image = '/content/pink_tree_purple_deer.png'\n",
        "text = 'a gray deer in front of a green tree'\n",
        "recap_instance = ReCap(image=image, caption=text, clip_checkpoint=\"ViT-B/32\", generic=False)\n",
        "\n",
        "\n",
        "recap_instance.candidate_tokens = {\n",
        "    'token_0': ('gray', 'fg', 'f'),\n",
        "    'token_1': ('deer', 'fg', 'obj'),\n",
        "    'token_2': ('green', 'bg', 'f'),\n",
        "    'token_3': ('tree', 'bg', 'obj')\n",
        "}\n",
        "deer_segment = cv2.imread('/content/purple_deer.png')\n",
        "tree_segment = cv2.imread('/content/pink_tree.png')\n",
        "\n",
        "recap_instance.candidate_segments = {\n",
        "    'segment_0': (deer_segment, 'fg'),\n",
        "    'segment_1': (tree_segment, 'bg')\n",
        "}\n",
        "\n",
        "recap_instance.run()"
      ],
      "metadata": {
        "colab": {
          "base_uri": "https://localhost:8080/"
        },
        "id": "PQkHmlNHMYA7",
        "outputId": "1ee2a36c-f3eb-492c-ea6e-ad936a5a41e5"
      },
      "execution_count": 8,
      "outputs": [
        {
          "output_type": "stream",
          "name": "stdout",
          "text": [
            "Assign candidate_tokens in form of T_c = {'token_0':{t_0, l_0, g_0},.... }\n",
            "Assign candidate_segments in form of I_c = {'segment_0':{i_0, l_0},.... }\n",
            "========================= SUBSTITUTION START ========================= \n",
            "self.T_hat='a gray deer in front of a green tree'\n",
            "target_token='token_0' ref=['segment_0_f_9', array([[0.29162014]], dtype=float32)]\n",
            "purple\n",
            "self.T_hat='a purple deer in front of a green tree'\n",
            "target_token='token_2' ref=['segment_1_f_9', array([[0.23500487]], dtype=float32)]\n",
            "purple\n",
            "self.T_hat='a purple deer in front of a purple tree'\n",
            "========================= SUBSTITUTION END =========================\n"
          ]
        }
      ]
    },
    {
      "cell_type": "code",
      "source": [
        "image = '/content/yellow_house_green_lion.png'\n",
        "text = 'a blue dinosaur in front of a red tree'\n",
        "recap_instance = ReCap(image=image, caption=text, clip_checkpoint=\"ViT-B/32\", generic=False)\n",
        "\n",
        "\n",
        "recap_instance.candidate_tokens = {\n",
        "    'token_0': ('blue', 'fg', 'f'),\n",
        "    'token_1': ('dinosaur', 'fg', 'obj'),\n",
        "    'token_2': ('red', 'bg', 'f'),\n",
        "    'token_3': ('tree', 'bg', 'obj')\n",
        "}\n",
        "lion_segment = cv2.imread('/content/green_lion.png')\n",
        "house_segment = cv2.imread('/content/yellow_house.png')\n",
        "\n",
        "recap_instance.candidate_segments = {\n",
        "    'segment_0': (lion_segment, 'fg'),\n",
        "    'segment_1': (house_segment, 'bg')\n",
        "}\n",
        "\n",
        "recap_instance.run()"
      ],
      "metadata": {
        "colab": {
          "base_uri": "https://localhost:8080/"
        },
        "id": "ii2y2sTzRsa1",
        "outputId": "1f997803-7928-429f-a8b8-1eaea8c68e99"
      },
      "execution_count": 9,
      "outputs": [
        {
          "output_type": "stream",
          "name": "stdout",
          "text": [
            "Assign candidate_tokens in form of T_c = {'token_0':{t_0, l_0, g_0},.... }\n",
            "Assign candidate_segments in form of I_c = {'segment_0':{i_0, l_0},.... }\n",
            "========================= SUBSTITUTION START ========================= \n",
            "self.T_hat='a blue dinosaur in front of a red tree'\n",
            "target_token='token_0' ref=['segment_0_f_3', array([[0.27266407]], dtype=float32)]\n",
            "green\n",
            "self.T_hat='a green dinosaur in front of a red tree'\n",
            "target_token='token_1' ref=['segment_0_obj_1', array([[0.24704775]], dtype=float32)]\n",
            "animal\n",
            "self.T_hat='a green animal in front of a red tree'\n",
            "target_token='token_2' ref=['segment_1_f_2', array([[0.26942572]], dtype=float32)]\n",
            "yellow\n",
            "self.T_hat='a green animal in front of a yellow tree'\n",
            "target_token='token_3' ref=['segment_1_obj_9', array([[0.26037657]], dtype=float32)]\n",
            "house\n",
            "self.T_hat='a green animal in front of a yellow house'\n",
            "========================= SUBSTITUTION END =========================\n"
          ]
        }
      ]
    },
    {
      "cell_type": "code",
      "source": [
        "image = '/content/pink_tree_orange_elephant.png'\n",
        "text = 'digital art selected for the #'\n",
        "recap_instance = ReCap(image=image, caption=text, clip_checkpoint=\"ViT-B/32\", generic=False)\n",
        "\n",
        "\n",
        "recap_instance.candidate_tokens = {\n",
        "    'token_0': ('digital', 'fg', 'f'),\n",
        "    'token_1': ('art', 'fg', 'obj'),\n",
        "    'token_2': ('selected', 'bg', 'f'),\n",
        "    'token_3': ('#', 'bg', 'obj')\n",
        "}\n",
        "elephant_segment = cv2.imread('/content/orange_elephant.png')\n",
        "tree_segment = cv2.imread('/content/pink_tree.png')\n",
        "\n",
        "recap_instance.candidate_segments = {\n",
        "    'segment_0': (elephant_segment, 'fg'),\n",
        "    'segment_1': (tree_segment, 'bg')\n",
        "}\n",
        "\n",
        "recap_instance.run()"
      ],
      "metadata": {
        "colab": {
          "base_uri": "https://localhost:8080/"
        },
        "id": "P_lWgf0fi0ei",
        "outputId": "a7103b87-4ae8-48ea-81a5-d8d459e030c7"
      },
      "execution_count": 11,
      "outputs": [
        {
          "output_type": "stream",
          "name": "stdout",
          "text": [
            "Assign candidate_tokens in form of T_c = {'token_0':{t_0, l_0, g_0},.... }\n",
            "Assign candidate_segments in form of I_c = {'segment_0':{i_0, l_0},.... }\n",
            "========================= SUBSTITUTION START ========================= \n",
            "self.T_hat='digital art selected for the #'\n",
            "target_token='token_0' ref=['segment_0_f_1', array([[0.28036323]], dtype=float32)]\n",
            "orange\n",
            "self.T_hat='orange art selected for the #'\n",
            "target_token='token_1' ref=['segment_0_obj_1', array([[0.25569206]], dtype=float32)]\n",
            "animal\n",
            "self.T_hat='orange animal selected for the #'\n",
            "target_token='token_2' ref=['segment_1_f_9', array([[0.23500487]], dtype=float32)]\n",
            "purple\n",
            "self.T_hat='orange animal purple for the #'\n",
            "target_token='token_3' ref=['segment_1_obj_4', array([[0.2891208]], dtype=float32)]\n",
            "tree\n",
            "self.T_hat='orange animal purple for the tree'\n",
            "========================= SUBSTITUTION END =========================\n"
          ]
        }
      ]
    }
  ]
}